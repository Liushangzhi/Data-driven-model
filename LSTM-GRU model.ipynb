{
 "cells": [
  {
   "cell_type": "code",
   "execution_count": 14,
   "metadata": {},
   "outputs": [],
   "source": [
    "import math\n",
    "from math import sqrt\n",
    "import matplotlib\n",
    "import matplotlib.pyplot as plt\n",
    "import numpy as np\n",
    "import pandas as pd\n",
    "from pandas import DataFrame\n",
    "from pandas import concat\n",
    "from datetime import datetime\n",
    "import tensorflow as tf\n",
    "import matplotlib.pyplot as plt\n",
    "from pandas.core.algorithms import mode\n",
    "from sklearn.preprocessing import LabelEncoder, MinMaxScaler\n",
    "from tensorflow.python.keras.backend import concatenate\n",
    "from tensorflow.python.keras.callbacks import History\n",
    "from sklearn.metrics import mean_squared_error\n",
    "from sklearn.metrics import mean_absolute_error\n",
    "from sklearn.metrics import r2_score\n",
    "from tensorflow.keras.models import Sequential,Model\n",
    "from tensorflow.keras.layers import LSTM,GRU,Bidirectional\n",
    "from tensorflow.keras.layers import Dense, Dropout,Activation, Embedding, Permute,Input,Multiply,RepeatVector,Flatten\n",
    "from keras.utils.vis_utils import plot_model"
   ]
  },
  {
   "cell_type": "code",
   "execution_count": 15,
   "metadata": {},
   "outputs": [],
   "source": [
    "# 读取csv\n",
    "df = pd.read_csv(\"data.csv\",encoding='ISO-8859-1')\n",
    "values=df.values #数值特征变量"
   ]
  },
  {
   "cell_type": "code",
   "execution_count": null,
   "metadata": {},
   "outputs": [],
   "source": [
    "# 划分数据集\n",
    "train_size = round(len(values) * 0.7)\n",
    "train, test = values[0:train_size], values[train_size:len(values)]\n",
    "print(train.shape)\n",
    "print(test.shape)"
   ]
  },
  {
   "cell_type": "code",
   "execution_count": 17,
   "metadata": {},
   "outputs": [],
   "source": [
    "# 归一化\n",
    "values = values.astype('float32') #使得所有数值类型都是float类型\n",
    "scaler = MinMaxScaler(feature_range = (0, 1)) #0-1归一化\n",
    "train_scaled = scaler.fit_transform(train)\n",
    "test_scaled = scaler.fit_transform(test)"
   ]
  },
  {
   "cell_type": "code",
   "execution_count": null,
   "metadata": {},
   "outputs": [],
   "source": [
    "# 定义输入和输出\n",
    "def createXY(dataset,n_past):\n",
    "    data_X = []\n",
    "    data_Y = []\n",
    "    for i in range(n_past, len(dataset)):\n",
    "        data_X.append(dataset[i - n_past:i, 0:dataset.shape[1]])\n",
    "        data_Y.append(dataset[i,0])\n",
    "    return np.array(data_X),np.array(data_Y)\n",
    "train_X,train_Y=createXY(train_scaled,9)\n",
    "test_X,test_Y=createXY(test_scaled,9)\n",
    "print(\"train_X Shape--\",train_X.shape)\n",
    "print(\"train_Y Shape--\",train_Y.shape)\n",
    "print(\"test_X Shape--\",test_X.shape)\n",
    "print(\"test_Y Shape--\",test_Y.shape)"
   ]
  },
  {
   "cell_type": "code",
   "execution_count": null,
   "metadata": {},
   "outputs": [],
   "source": [
    "model_input = Input(shape=(train_X.shape[1],train_X.shape[2]))\n",
    "x = LSTM(256)(model_input)\n",
    "x = Dropout(0.4)(x)\n",
    "x = GRU(256)(x)\n",
    "x = Dropout(0.3)(x)\n",
    "x = Dense(1)(x)\n",
    "model = Model(model_input, x)\n",
    "adam=tf.keras.optimizers.Adam(learning_rate=0.001)\n",
    "model.compile(loss='mse', optimizer=adam)\n",
    "model.summary()"
   ]
  },
  {
   "cell_type": "code",
   "execution_count": null,
   "metadata": {},
   "outputs": [],
   "source": [
    "history = model.fit(train_X, train_Y, epochs=100, batch_size=77, validation_data=(test_X, test_Y), verbose=2, shuffle=True)"
   ]
  },
  {
   "cell_type": "code",
   "execution_count": null,
   "metadata": {},
   "outputs": [],
   "source": [
    "plt.plot(history.history['loss'], label='train')\n",
    "plt.plot(history.history['val_loss'], label='test')\n",
    "plt.legend()\n",
    "plt.show()"
   ]
  },
  {
   "cell_type": "code",
   "execution_count": null,
   "metadata": {},
   "outputs": [],
   "source": [
    "#评估模型效果\n",
    "test_X=test_X.reshape((test_X.shape[0],test_X.shape[1]*test_X.shape[2]))\n",
    "inv_yhat=concatenate((yhat, test_X[:, 0:10]), axis=1)\n",
    "inv_yhat=scaler.inverse_transform(inv_yhat)\n",
    "inv_yhat=inv_yhat[:,0]\n",
    "test_Y=test_Y[:,np.newaxis]\n",
    "inv_y=concatenate((test_Y, test_X[:, 0:10]), axis=1)\n",
    "inv_y = scaler.inverse_transform(inv_y)\n",
    "inv_y = inv_y[:,0]\n",
    "rmse = sqrt(mean_squared_error(inv_y, inv_yhat))\n",
    "mae=(mean_absolute_error(inv_y, inv_yhat))\n",
    "r2=(r2_score(inv_y, inv_yhat))\n",
    "print('Test RMSE: %.3f' % rmse)\n",
    "print('Test MAE: %.3f' % mae)\n",
    "print('Test R2: %.3f' % r2)"
   ]
  },
  {
   "cell_type": "code",
   "execution_count": null,
   "metadata": {},
   "outputs": [],
   "source": [
    "train_X=train_X.reshape((train_X.shape[0],train_X.shape[1]*train_X.shape[2]))\n",
    "inv_yhat1=concatenate((yhat1, train_X[:, 0:10]), axis=1)\n",
    "inv_yhat1=scaler.inverse_transform(inv_yhat1)\n",
    "inv_yhat1=inv_yhat1[:,0]\n",
    "train_Y=train_Y[:,np.newaxis]\n",
    "inv_y1=concatenate((train_Y, train_X[:, 0:10]), axis=1)\n",
    "inv_y1 = scaler.inverse_transform(inv_y1)\n",
    "inv_y1 = inv_y1[:,0]\n",
    "RealValue=concatenate((inv_y1,inv_y),axis=0)\n",
    "PredictValue=concatenate((inv_yhat1,inv_yhat),axis=0)"
   ]
  },
  {
   "cell_type": "code",
   "execution_count": null,
   "metadata": {},
   "outputs": [],
   "source": [
    "f, (ax1) = plt.subplots(figsize=(6, 4), nrows=1)\n",
    "ax1.plot(RealValue,linewidth=2,label=\"Real Value\")\n",
    "ax1.plot(PredictValue,  linewidth=2,label=\"Predict Value\")\n",
    "plt.legend()"
   ]
  }
 ],
 "metadata": {
  "kernelspec": {
   "display_name": "Python 3.8.0 64-bit",
   "language": "python",
   "name": "python3"
  },
  "language_info": {
   "codemirror_mode": {
    "name": "ipython",
    "version": 3
   },
   "file_extension": ".py",
   "mimetype": "text/x-python",
   "name": "python",
   "nbconvert_exporter": "python",
   "pygments_lexer": "ipython3",
   "version": "3.8.0"
  },
  "orig_nbformat": 4,
  "vscode": {
   "interpreter": {
    "hash": "32eb572b5e11272ca0f7182131bb705d97cf876bf6256cf0ecaf3110b4095ceb"
   }
  }
 },
 "nbformat": 4,
 "nbformat_minor": 2
}
